{
 "cells": [
  {
   "cell_type": "markdown",
   "id": "527f8e31",
   "metadata": {},
   "source": [
    "Source: https://python.langchain.com/docs/tutorials/llm_chain/"
   ]
  },
  {
   "cell_type": "markdown",
   "id": "e3515867",
   "metadata": {},
   "source": [
    "- get your llm api key\n",
    "- Use Groq - its free\n",
    "- save it in .env file"
   ]
  },
  {
   "cell_type": "markdown",
   "id": "a01dc67e",
   "metadata": {},
   "source": [
    "Also do these steps in .env\n",
    "\n",
    "LANGSMITH_TRACING=\"true\"\n",
    "LANGSMITH_API_KEY=\"...\"\n",
    "LANGSMITH_PROJECT=\"default\" # or any other project name"
   ]
  },
  {
   "cell_type": "code",
   "execution_count": 15,
   "id": "682c4c87",
   "metadata": {},
   "outputs": [
    {
     "data": {
      "text/plain": [
       "True"
      ]
     },
     "execution_count": 15,
     "metadata": {},
     "output_type": "execute_result"
    }
   ],
   "source": [
    "from dotenv import load_dotenv\n",
    "load_dotenv()"
   ]
  },
  {
   "cell_type": "code",
   "execution_count": 16,
   "id": "afe84af3",
   "metadata": {},
   "outputs": [],
   "source": [
    "#pip install langchain[groq]"
   ]
  },
  {
   "cell_type": "code",
   "execution_count": 17,
   "id": "a0e461e5",
   "metadata": {},
   "outputs": [],
   "source": [
    "from langchain.chat_models import init_chat_model\n",
    "\n",
    "model = init_chat_model(\"openai/gpt-oss-120b\", model_provider=\"groq\")"
   ]
  },
  {
   "cell_type": "code",
   "execution_count": 18,
   "id": "a6f93f75",
   "metadata": {},
   "outputs": [
    {
     "data": {
      "text/plain": [
       "AIMessage(content='Hey there! Not much—just here and ready to help with whatever you need. How’s your day going?', additional_kwargs={'reasoning_content': 'We need to respond as ChatGPT. The user says \"Whats up?\" Casual greeting. We should respond friendly. No policy issues.'}, response_metadata={'token_usage': {'completion_tokens': 60, 'prompt_tokens': 74, 'total_tokens': 134, 'completion_time': 0.119626564, 'prompt_time': 0.002764443, 'queue_time': 0.048446647, 'total_time': 0.122391007}, 'model_name': 'openai/gpt-oss-120b', 'system_fingerprint': 'fp_ed9190d8b7', 'service_tier': 'on_demand', 'finish_reason': 'stop', 'logprobs': None}, id='run--a919e445-b8e3-4e7c-bbe7-4a6e2ea72d72-0', usage_metadata={'input_tokens': 74, 'output_tokens': 60, 'total_tokens': 134})"
      ]
     },
     "execution_count": 18,
     "metadata": {},
     "output_type": "execute_result"
    }
   ],
   "source": [
    "# A simple model call\n",
    "\n",
    "model.invoke(\"Whats up?\")"
   ]
  },
  {
   "cell_type": "markdown",
   "id": "42416cbd",
   "metadata": {},
   "source": [
    "[Exercise] Play along. Give bigger and bigger prompts"
   ]
  },
  {
   "cell_type": "code",
   "execution_count": 19,
   "id": "da2738af",
   "metadata": {},
   "outputs": [
    {
     "data": {
      "text/plain": [
       "AIMessage(content='I’m a versatile AI assistant, and I can help with a wide range of tasks, including:\\n\\n**1. Answering questions**\\n- General knowledge, science, history, culture, current events (up to my 2024‑06 knowledge cutoff), etc.\\n- Explaining concepts in simple terms or providing deeper technical detail.\\n\\n**2. Writing and editing**\\n- Drafting essays, articles, blog posts, stories, poems, scripts, and social‑media content.\\n- Proofreading, grammar checking, style suggestions, and rewriting for tone or audience.\\n\\n**3. Creative work**\\n- Generating plot ideas, character bios, world‑building details, jokes, riddles, and more.\\n- Composing lyrics, short poems, or even brainstorming game mechanics.\\n\\n**4. Programming assistance**\\n- Writing code snippets in many languages (Python, JavaScript, Java, C++, etc.).\\n- Debugging, explaining algorithms, reviewing code, and suggesting improvements.\\n- Providing pseudocode, flowcharts, or step‑by‑step problem‑solving approaches.\\n\\n**5. Learning and tutoring**\\n- Explaining math problems, physics concepts, language grammar, and other academic subjects.\\n- Creating practice problems, study guides, or summarizing textbook chapters.\\n\\n**6. Data‑related help**\\n- Interpreting simple datasets, generating example tables, explaining statistical concepts.\\n- Writing SQL queries, data‑cleaning scripts, or basic data‑visualization code.\\n\\n**7. Planning and organization**\\n- Drafting outlines for projects, presentations, or research papers.\\n- Helping with schedules, to‑do lists, travel itineraries, or event planning.\\n\\n**8. Technical support**\\n- Troubleshooting common software issues, explaining how to use tools, or guiding through configuration steps.\\n\\n**9. Conversational companion**\\n- Engaging in casual chat, discussing books, movies, hobbies, or philosophical topics.\\n- Providing motivation, brainstorming ideas, or just listening.\\n\\n**10. Multilingual assistance**\\n- Translating text, explaining language nuances, or helping with language learning (English, Spanish, French, etc.).\\n\\nIf you have a specific request or want to explore any of these areas, just let me know!', additional_kwargs={'reasoning_content': 'The user asks \"what can you do\". Need to respond describing capabilities, mention that can answer questions, generate text, code, etc. Follow policy. No disallowed content. Should be concise but thorough.'}, response_metadata={'token_usage': {'completion_tokens': 494, 'prompt_tokens': 75, 'total_tokens': 569, 'completion_time': 1.023741773, 'prompt_time': 0.002650406, 'queue_time': 0.053390264, 'total_time': 1.026392179}, 'model_name': 'openai/gpt-oss-120b', 'system_fingerprint': 'fp_82669fd91d', 'service_tier': 'on_demand', 'finish_reason': 'stop', 'logprobs': None}, id='run--72622e62-01fa-4bbb-801e-dca52eec4228-0', usage_metadata={'input_tokens': 75, 'output_tokens': 494, 'total_tokens': 569})"
      ]
     },
     "execution_count": 19,
     "metadata": {},
     "output_type": "execute_result"
    }
   ],
   "source": [
    "model.invoke(\"what can you do\")"
   ]
  },
  {
   "cell_type": "code",
   "execution_count": 20,
   "id": "a7f4578d",
   "metadata": {},
   "outputs": [
    {
     "data": {
      "text/plain": [
       "AIMessage(content='Below is a **stand‑alone** implementation that works with plain Python lists (no external libraries).  \\nIt:\\n\\n* accepts any rectangular matrices represented as `list[list[float|int]]`,\\n* checks that the number of columns of the left matrix equals the number of rows of the right matrix,\\n* raises a clear `ValueError` if the dimensions are incompatible,\\n* returns the product as a new matrix (also a list of lists).\\n\\n```python\\nfrom __future__ import annotations\\nfrom typing import List, Sequence, Union\\n\\nNumber = Union[int, float]\\n\\n\\nclass MatrixDimensionError(ValueError):\\n    \"\"\"Raised when two matrices cannot be multiplied because their dimensions do not match.\"\"\"\\n    pass\\n\\n\\ndef _validate_matrix(mat: Sequence[Sequence[Number]]) -> List[List[Number]]:\\n    \"\"\"\\n    Convert any sequence of sequences to a proper list‑of‑lists and verify that it is rectangular.\\n    \"\"\"\\n    if not mat:\\n        raise ValueError(\"Matrix cannot be empty.\")\\n    # Ensure every row has the same length\\n    row_len = len(mat[0])\\n    for i, row in enumerate(mat):\\n        if len(row) != row_len:\\n            raise ValueError(f\"Row {i} length {len(row)} differs from first row length {row_len}.\")\\n    # Return a deep copy as list‑of‑lists (so the caller cannot mutate the original)\\n    return [list(row) for row in mat]\\n\\n\\ndef multiply_matrices(\\n    a: Sequence[Sequence[Number]],\\n    b: Sequence[Sequence[Number]],\\n) -> List[List[Number]]:\\n    \"\"\"\\n    Multiply two matrices ``a`` and ``b`` (a·b).\\n\\n    Parameters\\n    ----------\\n    a, b : sequence of sequences\\n        Matrices to be multiplied. Each inner sequence represents a row.\\n        Elements must be numeric (int or float).\\n\\n    Returns\\n    -------\\n    List[List[Number]]\\n        The product matrix.\\n\\n    Raises\\n    ------\\n    MatrixDimensionError\\n        If the number of columns in ``a`` does not equal the number of rows in ``b``.\\n    ValueError\\n        If either input is not a proper rectangular matrix.\\n    \"\"\"\\n    # Convert to proper list‑of‑lists and validate rectangular shape\\n    a = _validate_matrix(a)\\n    b = _validate_matrix(b)\\n\\n    rows_a, cols_a = len(a), len(a[0])\\n    rows_b, cols_b = len(b), len(b[0])\\n\\n    # Compatibility check\\n    if cols_a != rows_b:\\n        raise MatrixDimensionError(\\n            f\"Incompatible dimensions: left matrix is {rows_a}×{cols_a}, \"\\n            f\"right matrix is {rows_b}×{cols_b}. \"\\n            \"Number of columns of the left matrix must equal number of rows of the right matrix.\"\\n        )\\n\\n    # Pre‑allocate result matrix filled with zeros\\n    result: List[List[Number]] = [[0 for _ in range(cols_b)] for _ in range(rows_a)]\\n\\n    # Classic O(n³) matrix multiplication\\n    for i in range(rows_a):\\n        for k in range(cols_a):          # iterate over shared dimension\\n            aik = a[i][k]\\n            # Skip work if aik is zero (optional micro‑optimisation)\\n            if aik == 0:\\n                continue\\n            for j in range(cols_b):\\n                result[i][j] += aik * b[k][j]\\n\\n    return result\\n\\n\\n# ----------------------------------------------------------------------\\n# Example usage\\n# ----------------------------------------------------------------------\\nif __name__ == \"__main__\":\\n    # Compatible matrices\\n    A = [\\n        [1, 2, 3],\\n        [4, 5, 6],\\n    ]                     # 2 × 3\\n\\n    B = [\\n        [7, 8],\\n        [9, 10],\\n        [11, 12],\\n    ]                     # 3 × 2\\n\\n    try:\\n        C = multiply_matrices(A, B)\\n        print(\"A × B =\")\\n        for row in C:\\n            print(row)\\n    except MatrixDimensionError as e:\\n        print(\"Dimension error:\", e)\\n\\n    # Incompatible matrices – will raise an exception\\n    D = [\\n        [1, 2],\\n        [3, 4],\\n    ]                     # 2 × 2\\n\\n    try:\\n        multiply_matrices(A, D)   # 2×3 times 2×2 → not allowed\\n    except MatrixDimensionError as e:\\n        print(\"\\\\nCaught expected exception:\")\\n        print(e)\\n```\\n\\n### What the script does\\n\\n1. **Validation** – `_validate_matrix` checks that each row has the same length (so the matrix is rectangular) and makes a deep copy.\\n2. **Dimension check** – before any arithmetic, `cols_a` must equal `rows_b`. If not, a `MatrixDimensionError` is raised with a helpful message.\\n3. **Multiplication** – uses the classic triple‑loop algorithm (`O(n³)`). The inner loop adds `a[i][k] * b[k][j]` to the accumulator `result[i][j]`. A tiny optimisation skips the inner work when `a[i][k]` is zero.\\n4. **Result** – a new matrix is returned; the original inputs are left untouched.\\n5. **Demo** – the `__main__` block shows a successful multiplication and the handling of an incompatible‑dimension case.\\n\\nFeel free to drop this code into any project, import `multiply_matrices`, and you’ll have safe, dimension‑checked matrix multiplication without needing NumPy or other third‑party packages.', additional_kwargs={'reasoning_content': 'We need to produce Python code that multiplies two matrices of arbitrary but compatible dimensions, and throws exception if dimensions not compatible. Provide explanation. Probably define a function multiply_matrices(A, B) that checks dimensions, raises ValueError. Use list of lists. Could also use numpy, but implement manually. Provide example usage and exception handling.\\n\\nWrite clean code with docstring, type hints. Use custom exception maybe.\\n\\nWill output code block.'}, response_metadata={'token_usage': {'completion_tokens': 1256, 'prompt_tokens': 104, 'total_tokens': 1360, 'completion_time': 2.497352382, 'prompt_time': 0.003644781, 'queue_time': 0.053780139, 'total_time': 2.500997163}, 'model_name': 'openai/gpt-oss-120b', 'system_fingerprint': 'fp_3a688838c3', 'service_tier': 'on_demand', 'finish_reason': 'stop', 'logprobs': None}, id='run--cb94913f-708f-4863-84e2-2a3c0511512b-0', usage_metadata={'input_tokens': 104, 'output_tokens': 1256, 'total_tokens': 1360})"
      ]
     },
     "execution_count": 20,
     "metadata": {},
     "output_type": "execute_result"
    }
   ],
   "source": [
    "response = model.invoke(\"\"\" Write a python code which can multiply two matrix of arbitrary but compatible order. The code should throw exception if the matrix dimentsions are not compatible for multiplication             \n",
    "             \"\"\")\n",
    "\n",
    "response"
   ]
  },
  {
   "cell_type": "code",
   "execution_count": 21,
   "id": "17c8c30d",
   "metadata": {},
   "outputs": [
    {
     "name": "stdout",
     "output_type": "stream",
     "text": [
      "Below is a **stand‑alone** implementation that works with plain Python lists (no external libraries).  \n",
      "It:\n",
      "\n",
      "* accepts any rectangular matrices represented as `list[list[float|int]]`,\n",
      "* checks that the number of columns of the left matrix equals the number of rows of the right matrix,\n",
      "* raises a clear `ValueError` if the dimensions are incompatible,\n",
      "* returns the product as a new matrix (also a list of lists).\n",
      "\n",
      "```python\n",
      "from __future__ import annotations\n",
      "from typing import List, Sequence, Union\n",
      "\n",
      "Number = Union[int, float]\n",
      "\n",
      "\n",
      "class MatrixDimensionError(ValueError):\n",
      "    \"\"\"Raised when two matrices cannot be multiplied because their dimensions do not match.\"\"\"\n",
      "    pass\n",
      "\n",
      "\n",
      "def _validate_matrix(mat: Sequence[Sequence[Number]]) -> List[List[Number]]:\n",
      "    \"\"\"\n",
      "    Convert any sequence of sequences to a proper list‑of‑lists and verify that it is rectangular.\n",
      "    \"\"\"\n",
      "    if not mat:\n",
      "        raise ValueError(\"Matrix cannot be empty.\")\n",
      "    # Ensure every row has the same length\n",
      "    row_len = len(mat[0])\n",
      "    for i, row in enumerate(mat):\n",
      "        if len(row) != row_len:\n",
      "            raise ValueError(f\"Row {i} length {len(row)} differs from first row length {row_len}.\")\n",
      "    # Return a deep copy as list‑of‑lists (so the caller cannot mutate the original)\n",
      "    return [list(row) for row in mat]\n",
      "\n",
      "\n",
      "def multiply_matrices(\n",
      "    a: Sequence[Sequence[Number]],\n",
      "    b: Sequence[Sequence[Number]],\n",
      ") -> List[List[Number]]:\n",
      "    \"\"\"\n",
      "    Multiply two matrices ``a`` and ``b`` (a·b).\n",
      "\n",
      "    Parameters\n",
      "    ----------\n",
      "    a, b : sequence of sequences\n",
      "        Matrices to be multiplied. Each inner sequence represents a row.\n",
      "        Elements must be numeric (int or float).\n",
      "\n",
      "    Returns\n",
      "    -------\n",
      "    List[List[Number]]\n",
      "        The product matrix.\n",
      "\n",
      "    Raises\n",
      "    ------\n",
      "    MatrixDimensionError\n",
      "        If the number of columns in ``a`` does not equal the number of rows in ``b``.\n",
      "    ValueError\n",
      "        If either input is not a proper rectangular matrix.\n",
      "    \"\"\"\n",
      "    # Convert to proper list‑of‑lists and validate rectangular shape\n",
      "    a = _validate_matrix(a)\n",
      "    b = _validate_matrix(b)\n",
      "\n",
      "    rows_a, cols_a = len(a), len(a[0])\n",
      "    rows_b, cols_b = len(b), len(b[0])\n",
      "\n",
      "    # Compatibility check\n",
      "    if cols_a != rows_b:\n",
      "        raise MatrixDimensionError(\n",
      "            f\"Incompatible dimensions: left matrix is {rows_a}×{cols_a}, \"\n",
      "            f\"right matrix is {rows_b}×{cols_b}. \"\n",
      "            \"Number of columns of the left matrix must equal number of rows of the right matrix.\"\n",
      "        )\n",
      "\n",
      "    # Pre‑allocate result matrix filled with zeros\n",
      "    result: List[List[Number]] = [[0 for _ in range(cols_b)] for _ in range(rows_a)]\n",
      "\n",
      "    # Classic O(n³) matrix multiplication\n",
      "    for i in range(rows_a):\n",
      "        for k in range(cols_a):          # iterate over shared dimension\n",
      "            aik = a[i][k]\n",
      "            # Skip work if aik is zero (optional micro‑optimisation)\n",
      "            if aik == 0:\n",
      "                continue\n",
      "            for j in range(cols_b):\n",
      "                result[i][j] += aik * b[k][j]\n",
      "\n",
      "    return result\n",
      "\n",
      "\n",
      "# ----------------------------------------------------------------------\n",
      "# Example usage\n",
      "# ----------------------------------------------------------------------\n",
      "if __name__ == \"__main__\":\n",
      "    # Compatible matrices\n",
      "    A = [\n",
      "        [1, 2, 3],\n",
      "        [4, 5, 6],\n",
      "    ]                     # 2 × 3\n",
      "\n",
      "    B = [\n",
      "        [7, 8],\n",
      "        [9, 10],\n",
      "        [11, 12],\n",
      "    ]                     # 3 × 2\n",
      "\n",
      "    try:\n",
      "        C = multiply_matrices(A, B)\n",
      "        print(\"A × B =\")\n",
      "        for row in C:\n",
      "            print(row)\n",
      "    except MatrixDimensionError as e:\n",
      "        print(\"Dimension error:\", e)\n",
      "\n",
      "    # Incompatible matrices – will raise an exception\n",
      "    D = [\n",
      "        [1, 2],\n",
      "        [3, 4],\n",
      "    ]                     # 2 × 2\n",
      "\n",
      "    try:\n",
      "        multiply_matrices(A, D)   # 2×3 times 2×2 → not allowed\n",
      "    except MatrixDimensionError as e:\n",
      "        print(\"\\nCaught expected exception:\")\n",
      "        print(e)\n",
      "```\n",
      "\n",
      "### What the script does\n",
      "\n",
      "1. **Validation** – `_validate_matrix` checks that each row has the same length (so the matrix is rectangular) and makes a deep copy.\n",
      "2. **Dimension check** – before any arithmetic, `cols_a` must equal `rows_b`. If not, a `MatrixDimensionError` is raised with a helpful message.\n",
      "3. **Multiplication** – uses the classic triple‑loop algorithm (`O(n³)`). The inner loop adds `a[i][k] * b[k][j]` to the accumulator `result[i][j]`. A tiny optimisation skips the inner work when `a[i][k]` is zero.\n",
      "4. **Result** – a new matrix is returned; the original inputs are left untouched.\n",
      "5. **Demo** – the `__main__` block shows a successful multiplication and the handling of an incompatible‑dimension case.\n",
      "\n",
      "Feel free to drop this code into any project, import `multiply_matrices`, and you’ll have safe, dimension‑checked matrix multiplication without needing NumPy or other third‑party packages.\n"
     ]
    }
   ],
   "source": [
    "print(response.content)"
   ]
  },
  {
   "cell_type": "code",
   "execution_count": 22,
   "id": "8b215da3",
   "metadata": {},
   "outputs": [
    {
     "data": {
      "text/plain": [
       "AIMessage(content='**Punjabi (Gurmukhi script):**  \\n**ਕੀ ਚੰਗਾ ਹੈ?**', additional_kwargs={'reasoning_content': 'The user asks: \"whats good?\" They want translation from English into Punjabi. So we need to translate that phrase. In Punjabi (Gurmukhi script): \"ਕੀ ਚੰਗਾ ਹੈ?\" Or \"ਕੀ ਚੰਗਾ?\" Could be \"ਕੀ ਚੰਗਾ?\" Usually \"what\\'s good?\" = \"ਕੀ ਚੰਗਾ ਹੈ?\" Provide translation. Also maybe include both Gurmukhi and Shahmukhi? Probably just Gurmukhi. Provide translation.'}, response_metadata={'token_usage': {'completion_tokens': 127, 'prompt_tokens': 85, 'total_tokens': 212, 'completion_time': 0.252358853, 'prompt_time': 0.003020981, 'queue_time': 0.053694969, 'total_time': 0.255379834}, 'model_name': 'openai/gpt-oss-120b', 'system_fingerprint': 'fp_3a688838c3', 'service_tier': 'on_demand', 'finish_reason': 'stop', 'logprobs': None}, id='run--a72b91b8-5a8a-4722-a184-e9cf6fb920c9-0', usage_metadata={'input_tokens': 85, 'output_tokens': 127, 'total_tokens': 212})"
      ]
     },
     "execution_count": 22,
     "metadata": {},
     "output_type": "execute_result"
    }
   ],
   "source": [
    "# invoking to build a converstation style call\n",
    "\n",
    "from langchain_core.messages import HumanMessage, SystemMessage\n",
    "\n",
    "messages = [\n",
    "    SystemMessage(\"Translate the following from English into Punjabi\"), # try punjabi, or any other Indian language\n",
    "    HumanMessage(\"whats good?\"),\n",
    "]\n",
    "\n",
    "model.invoke(messages)"
   ]
  },
  {
   "cell_type": "code",
   "execution_count": 23,
   "id": "9efe5fb2",
   "metadata": {},
   "outputs": [
    {
     "data": {
      "text/plain": [
       "AIMessage(content='Here is a short, self‑contained Python program that reads **n** numbers from standard input and prints the maximum of them.  \\nIt works for both interactive use (typing numbers) and for input redirection (e.g., `python max_n.py < data.txt`).\\n\\n```python\\n#!/usr/bin/env python3\\n\"\"\"\\nmax_n.py – Find the maximum of n given numbers.\\n\\nUsage:\\n    1. Interactive:\\n        $ python max_n.py\\n        Enter the number of values (n): 5\\n        Enter 5 numbers separated by spaces or newlines: 3 7 2 9 4\\n        Maximum value: 9\\n\\n    2. From a file (numbers.txt):\\n        $ python max_n.py < numbers.txt\\n        (the file should contain n on the first line, then the numbers.)\\n\\nThe script handles integers and floating‑point numbers alike.\\n\"\"\"\\n\\nimport sys\\nfrom typing import List, Union\\n\\nNumber = Union[int, float]\\n\\n\\ndef read_numbers() -> List[Number]:\\n    \"\"\"\\n    Reads the input and returns a list of numbers.\\n\\n    Expected format:\\n        - First token: an integer n (the count of following numbers)\\n        - Next n tokens: the numbers themselves (int or float)\\n\\n    Raises:\\n        ValueError: if the input is malformed.\\n    \"\"\"\\n    # Read all whitespace‑separated tokens from stdin\\n    tokens = sys.stdin.read().strip().split()\\n    if not tokens:\\n        raise ValueError(\"No input provided.\")\\n\\n    # First token is n\\n    try:\\n        n = int(tokens[0])\\n    except ValueError:\\n        raise ValueError(f\"The first token must be an integer (the count n), got: {tokens[0]!r}\")\\n\\n    if n < 0:\\n        raise ValueError(f\"The count n cannot be negative (got {n}).\")\\n\\n    # Ensure we have exactly n numbers after the count\\n    if len(tokens) - 1 < n:\\n        raise ValueError(f\"Expected {n} numbers after the count, but only {len(tokens) - 1} were provided.\")\\n\\n    # Convert the next n tokens to int or float\\n    numbers: List[Number] = []\\n    for i in range(1, n + 1):\\n        token = tokens[i]\\n        # Try int first, then float\\n        try:\\n            value = int(token)\\n        except ValueError:\\n            try:\\n                value = float(token)\\n            except ValueError:\\n                raise ValueError(f\"Token {i} ({token!r}) is not a valid number.\")\\n        numbers.append(value)\\n\\n    return numbers\\n\\n\\ndef main() -> None:\\n    try:\\n        numbers = read_numbers()\\n    except ValueError as e:\\n        print(f\"Input error: {e}\", file=sys.stderr)\\n        sys.exit(1)\\n\\n    # Compute the maximum – Python\\'s built‑in max works for both int and float\\n    max_value = max(numbers)\\n\\n    # Print the result (without extra formatting)\\n    print(max_value)\\n\\n\\nif __name__ == \"__main__\":\\n    main()\\n```\\n\\n### How it works\\n1. **Reading input** – All whitespace‑separated tokens are read at once.  \\n   The first token is interpreted as `n`, the number of values to follow.  \\n2. **Parsing numbers** – Each of the next `n` tokens is converted to `int` if possible, otherwise to `float`.  \\n3. **Finding the maximum** – `max(numbers)` returns the largest value.  \\n4. **Output** – The maximum is printed on a single line.\\n\\n### Quick test in a Python REPL\\n\\n```python\\n>>> from subprocess import run, PIPE\\n>>> input_data = \"5\\\\n3 7 2 9 4\\\\n\"\\n>>> result = run([\"python3\", \"max_n.py\"], input=input_data.encode(), stdout=PIPE)\\n>>> result.stdout.decode().strip()\\n\\'9\\'\\n```\\n\\nFeel free to adapt the script (e.g., to read from command‑line arguments or to handle larger inputs) – the core logic (`max(numbers)`) remains the same.', additional_kwargs={'reasoning_content': 'The user asks: \"Find max of given n numbers\". Likely they want a Python program that reads n and then numbers, and outputs the maximum. Provide code. Could also ask for function. We\\'ll produce a simple script. Also handle edge cases. Provide explanation.'}, response_metadata={'token_usage': {'completion_tokens': 913, 'prompt_tokens': 86, 'total_tokens': 999, 'completion_time': 1.8191847110000001, 'prompt_time': 0.002993842, 'queue_time': 0.046967798, 'total_time': 1.822178553}, 'model_name': 'openai/gpt-oss-120b', 'system_fingerprint': 'fp_3a688838c3', 'service_tier': 'on_demand', 'finish_reason': 'stop', 'logprobs': None}, id='run--e9d98910-08e9-4550-bb4f-ea9ddb4565d1-0', usage_metadata={'input_tokens': 86, 'output_tokens': 913, 'total_tokens': 999})"
      ]
     },
     "execution_count": 23,
     "metadata": {},
     "output_type": "execute_result"
    }
   ],
   "source": [
    "messages = [\n",
    "    SystemMessage(\"Generate python code for given tasks\"),\n",
    "    HumanMessage(\"Find max of given n numbers\"),\n",
    "]\n",
    "\n",
    "response = model.invoke(messages)\n",
    "\n",
    "response"
   ]
  },
  {
   "cell_type": "code",
   "execution_count": 24,
   "id": "d36098aa",
   "metadata": {},
   "outputs": [
    {
     "name": "stdout",
     "output_type": "stream",
     "text": [
      "Here is a short, self‑contained Python program that reads **n** numbers from standard input and prints the maximum of them.  \n",
      "It works for both interactive use (typing numbers) and for input redirection (e.g., `python max_n.py < data.txt`).\n",
      "\n",
      "```python\n",
      "#!/usr/bin/env python3\n",
      "\"\"\"\n",
      "max_n.py – Find the maximum of n given numbers.\n",
      "\n",
      "Usage:\n",
      "    1. Interactive:\n",
      "        $ python max_n.py\n",
      "        Enter the number of values (n): 5\n",
      "        Enter 5 numbers separated by spaces or newlines: 3 7 2 9 4\n",
      "        Maximum value: 9\n",
      "\n",
      "    2. From a file (numbers.txt):\n",
      "        $ python max_n.py < numbers.txt\n",
      "        (the file should contain n on the first line, then the numbers.)\n",
      "\n",
      "The script handles integers and floating‑point numbers alike.\n",
      "\"\"\"\n",
      "\n",
      "import sys\n",
      "from typing import List, Union\n",
      "\n",
      "Number = Union[int, float]\n",
      "\n",
      "\n",
      "def read_numbers() -> List[Number]:\n",
      "    \"\"\"\n",
      "    Reads the input and returns a list of numbers.\n",
      "\n",
      "    Expected format:\n",
      "        - First token: an integer n (the count of following numbers)\n",
      "        - Next n tokens: the numbers themselves (int or float)\n",
      "\n",
      "    Raises:\n",
      "        ValueError: if the input is malformed.\n",
      "    \"\"\"\n",
      "    # Read all whitespace‑separated tokens from stdin\n",
      "    tokens = sys.stdin.read().strip().split()\n",
      "    if not tokens:\n",
      "        raise ValueError(\"No input provided.\")\n",
      "\n",
      "    # First token is n\n",
      "    try:\n",
      "        n = int(tokens[0])\n",
      "    except ValueError:\n",
      "        raise ValueError(f\"The first token must be an integer (the count n), got: {tokens[0]!r}\")\n",
      "\n",
      "    if n < 0:\n",
      "        raise ValueError(f\"The count n cannot be negative (got {n}).\")\n",
      "\n",
      "    # Ensure we have exactly n numbers after the count\n",
      "    if len(tokens) - 1 < n:\n",
      "        raise ValueError(f\"Expected {n} numbers after the count, but only {len(tokens) - 1} were provided.\")\n",
      "\n",
      "    # Convert the next n tokens to int or float\n",
      "    numbers: List[Number] = []\n",
      "    for i in range(1, n + 1):\n",
      "        token = tokens[i]\n",
      "        # Try int first, then float\n",
      "        try:\n",
      "            value = int(token)\n",
      "        except ValueError:\n",
      "            try:\n",
      "                value = float(token)\n",
      "            except ValueError:\n",
      "                raise ValueError(f\"Token {i} ({token!r}) is not a valid number.\")\n",
      "        numbers.append(value)\n",
      "\n",
      "    return numbers\n",
      "\n",
      "\n",
      "def main() -> None:\n",
      "    try:\n",
      "        numbers = read_numbers()\n",
      "    except ValueError as e:\n",
      "        print(f\"Input error: {e}\", file=sys.stderr)\n",
      "        sys.exit(1)\n",
      "\n",
      "    # Compute the maximum – Python's built‑in max works for both int and float\n",
      "    max_value = max(numbers)\n",
      "\n",
      "    # Print the result (without extra formatting)\n",
      "    print(max_value)\n",
      "\n",
      "\n",
      "if __name__ == \"__main__\":\n",
      "    main()\n",
      "```\n",
      "\n",
      "### How it works\n",
      "1. **Reading input** – All whitespace‑separated tokens are read at once.  \n",
      "   The first token is interpreted as `n`, the number of values to follow.  \n",
      "2. **Parsing numbers** – Each of the next `n` tokens is converted to `int` if possible, otherwise to `float`.  \n",
      "3. **Finding the maximum** – `max(numbers)` returns the largest value.  \n",
      "4. **Output** – The maximum is printed on a single line.\n",
      "\n",
      "### Quick test in a Python REPL\n",
      "\n",
      "```python\n",
      ">>> from subprocess import run, PIPE\n",
      ">>> input_data = \"5\\n3 7 2 9 4\\n\"\n",
      ">>> result = run([\"python3\", \"max_n.py\"], input=input_data.encode(), stdout=PIPE)\n",
      ">>> result.stdout.decode().strip()\n",
      "'9'\n",
      "```\n",
      "\n",
      "Feel free to adapt the script (e.g., to read from command‑line arguments or to handle larger inputs) – the core logic (`max(numbers)`) remains the same.\n"
     ]
    }
   ],
   "source": [
    "print(response.content)"
   ]
  },
  {
   "cell_type": "code",
   "execution_count": 25,
   "id": "7b1dde82",
   "metadata": {},
   "outputs": [
    {
     "name": "stdout",
     "output_type": "stream",
     "text": [
      "Below is a complete, ready‑to‑run MIPS program for the **MARS** simulator.  \n",
      "It:\n",
      "\n",
      "1. Stores a hard‑coded array of 10 integers in the data segment.  \n",
      "2. Walks through the array, adds only the **even** elements to a running total.  \n",
      "3. Prints the resulting sum as a decimal integer, followed by a newline.\n",
      "\n",
      "```mips\n",
      "# ---------------------------------------------------------------\n",
      "#  MIPS program: sum of even numbers in a hard‑coded array (10 elems)\n",
      "#  Assembled / run with the MARS simulator.\n",
      "# ---------------------------------------------------------------\n",
      "\n",
      "        .data\n",
      "# -------------------- Data segment -----------------------------\n",
      "array:  .word   12, 7, 5, 20, 33, 8, 14, 9, 2, 11   # 10 numbers\n",
      "msg_nl: .asciiz \"\\n\"                               # newline for output\n",
      "\n",
      "# -------------------- Text (code) segment ----------------------\n",
      "        .text\n",
      "        .globl  main\n",
      "main:\n",
      "        # -------------------------------------------------------\n",
      "        # Registers we will use\n",
      "        # -------------------------------------------------------\n",
      "        # $t0  – index (0 … 9)\n",
      "        # $t1  – sum of even numbers (initially 0)\n",
      "        # $t2  – current array element\n",
      "        # $t3  – base address of the array\n",
      "        # $t4  – loop limit (10)\n",
      "        # $t5  – temporary for even‑check (lowest bit)\n",
      "        # -------------------------------------------------------\n",
      "\n",
      "        li      $t1, 0          # sum = 0\n",
      "        la      $t3, array      # $t3 = address of first element\n",
      "        li      $t4, 10         # loop runs 10 times\n",
      "        li      $t0, 0          # index = 0\n",
      "\n",
      "loop:\n",
      "        bge     $t0, $t4, done  # if index >= 10, exit loop\n",
      "\n",
      "        # Load array[index] into $t2\n",
      "        sll     $t5, $t0, 2     # $t5 = index * 4 (word size)\n",
      "        add     $t5, $t5, $t3   # $t5 = address of array[index]\n",
      "        lw      $t2, 0($t5)     # $t2 = array[index]\n",
      "\n",
      "        # Test if $t2 is even: (value & 1) == 0 ?\n",
      "        andi    $t5, $t2, 1     # $t5 = lowest bit of $t2\n",
      "        bne     $t5, $zero, not_even   # if bit != 0 → odd, skip add\n",
      "\n",
      "        # Even → add to sum\n",
      "        add     $t1, $t1, $t2\n",
      "\n",
      "not_even:\n",
      "        addi    $t0, $t0, 1     # index++\n",
      "        j       loop\n",
      "\n",
      "done:\n",
      "        # -------------------------------------------------------\n",
      "        # Print the sum (syscall 1) and a newline (syscall 4)\n",
      "        # -------------------------------------------------------\n",
      "        move    $a0, $t1        # $a0 = sum to print\n",
      "        li      $v0, 1          # syscall: print_int\n",
      "        syscall\n",
      "\n",
      "        # print newline\n",
      "        la      $a0, msg_nl\n",
      "        li      $v0, 4          # syscall: print_string\n",
      "        syscall\n",
      "\n",
      "        # Exit program\n",
      "        li      $v0, 10         # syscall: exit\n",
      "        syscall\n",
      "```\n",
      "\n",
      "### How to run\n",
      "\n",
      "1. Open **MARS** (MIPS Assembler and Runtime Simulator).  \n",
      "2. Paste the code into a new file (`File → New`).  \n",
      "3. Assemble (`Run → Assemble`) – no errors should appear.  \n",
      "4. Run (`Run → Go`).  \n",
      "\n",
      "The console will display the sum of the even numbers in the array:\n",
      "\n",
      "```\n",
      "66\n",
      "```\n",
      "\n",
      "*(For the example array `{12,7,5,20,33,8,14,9,2,11}` the even numbers are 12, 20, 8, 14, 2 → sum = 66.)*  \n",
      "\n",
      "Feel free to modify the `.word` list in the `array` label to test with different numbers.\n"
     ]
    }
   ],
   "source": [
    "messages = [\n",
    "    SystemMessage(\"Generate MIPS code for given tasks to be run on MARS simulator\"),\n",
    "    HumanMessage(\"print the sum of even numbers in a hardcoded array of 10 numbers\"),\n",
    "]\n",
    "\n",
    "response = model.invoke(messages)\n",
    "\n",
    "print(response.content)"
   ]
  },
  {
   "cell_type": "code",
   "execution_count": 26,
   "id": "39caa649",
   "metadata": {},
   "outputs": [
    {
     "name": "stdout",
     "output_type": "stream",
     "text": [
      "||||||||||||||||||Hello|!| I|’m| doing| great|,| thanks| for| asking|.| How| can| I| help| you| today|?||"
     ]
    }
   ],
   "source": [
    "# streaming example\n",
    "import time\n",
    "\n",
    "for token in model.stream(\"hello how are you?\"):\n",
    "    time.sleep(0.1)\n",
    "    print(token.content, end=\"|\")"
   ]
  },
  {
   "cell_type": "code",
   "execution_count": 27,
   "id": "6837d022",
   "metadata": {},
   "outputs": [],
   "source": [
    "# Class discussion point: What is an LLM as a program"
   ]
  },
  {
   "cell_type": "code",
   "execution_count": 28,
   "id": "d7afa98b",
   "metadata": {},
   "outputs": [],
   "source": [
    "from langchain.chat_models import init_chat_model\n",
    "\n",
    "model = init_chat_model(\"openai/gpt-oss-120b\", model_provider=\"groq\")"
   ]
  }
 ],
 "metadata": {
  "kernelspec": {
   "display_name": "venv",
   "language": "python",
   "name": "python3"
  },
  "language_info": {
   "codemirror_mode": {
    "name": "ipython",
    "version": 3
   },
   "file_extension": ".py",
   "mimetype": "text/x-python",
   "name": "python",
   "nbconvert_exporter": "python",
   "pygments_lexer": "ipython3",
   "version": "3.13.5"
  }
 },
 "nbformat": 4,
 "nbformat_minor": 5
}
