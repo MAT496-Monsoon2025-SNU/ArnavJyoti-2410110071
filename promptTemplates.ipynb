{
 "cells": [
  {
   "cell_type": "code",
   "execution_count": 1,
   "id": "682c4c87",
   "metadata": {},
   "outputs": [
    {
     "data": {
      "text/plain": [
       "True"
      ]
     },
     "execution_count": 1,
     "metadata": {},
     "output_type": "execute_result"
    }
   ],
   "source": [
    "from dotenv import load_dotenv\n",
    "load_dotenv()"
   ]
  },
  {
   "cell_type": "markdown",
   "id": "2bb1d276",
   "metadata": {},
   "source": [
    "# Example 1"
   ]
  },
  {
   "cell_type": "code",
   "execution_count": 2,
   "id": "a0e461e5",
   "metadata": {},
   "outputs": [],
   "source": [
    "from langchain.chat_models import init_chat_model\n",
    "\n",
    "model = init_chat_model(\"openai/gpt-oss-120b\", model_provider=\"groq\")"
   ]
  },
  {
   "cell_type": "code",
   "execution_count": 3,
   "id": "2ca18e76",
   "metadata": {},
   "outputs": [],
   "source": [
    "# Prompt template\n",
    "\n",
    "prompt_template = \"\"\"Translate the given text in to the given language: \n",
    "Text: {text}\n",
    "Lang: {lang}\n",
    "\"\"\""
   ]
  },
  {
   "cell_type": "code",
   "execution_count": 4,
   "id": "8ca177aa",
   "metadata": {},
   "outputs": [
    {
     "name": "stdout",
     "output_type": "stream",
     "text": [
      "Translate the given text in to the given language: \n",
      "Text: Who are you?\n",
      "Lang: hindi\n",
      "\n"
     ]
    }
   ],
   "source": [
    "prompt = prompt_template.format(text = \"Who are you?\", lang=\"hindi\")\n",
    "print(prompt)"
   ]
  },
  {
   "cell_type": "code",
   "execution_count": 5,
   "id": "a6f93f75",
   "metadata": {},
   "outputs": [
    {
     "data": {
      "text/plain": [
       "AIMessage(content='**Hindi:** आप कौन हैं?', additional_kwargs={'reasoning_content': 'The user wants translation: \"Who are you?\" into Hindi. The translation is \"तुम कौन हो?\" or \"आप कौन हैं?\" depending on formality. Probably \"आप कौन हैं?\" is polite. Provide translation.'}, response_metadata={'token_usage': {'completion_tokens': 62, 'prompt_tokens': 92, 'total_tokens': 154, 'completion_time': 0.123068315, 'prompt_time': 0.003422954, 'queue_time': 0.049039456, 'total_time': 0.126491269}, 'model_name': 'openai/gpt-oss-120b', 'system_fingerprint': 'fp_ed9190d8b7', 'service_tier': 'on_demand', 'finish_reason': 'stop', 'logprobs': None}, id='run--17cdba17-6a9d-4c45-b524-e175ba445835-0', usage_metadata={'input_tokens': 92, 'output_tokens': 62, 'total_tokens': 154})"
      ]
     },
     "execution_count": 5,
     "metadata": {},
     "output_type": "execute_result"
    }
   ],
   "source": [
    "# A simple model call\n",
    "response =  model.invoke(prompt)\n",
    "response"
   ]
  },
  {
   "cell_type": "code",
   "execution_count": 6,
   "id": "044667ec",
   "metadata": {},
   "outputs": [
    {
     "name": "stdout",
     "output_type": "stream",
     "text": [
      "**Hindi:** आप कौन हैं?\n"
     ]
    }
   ],
   "source": [
    "print(response.content)"
   ]
  },
  {
   "cell_type": "code",
   "execution_count": 7,
   "id": "50ae1e79",
   "metadata": {},
   "outputs": [
    {
     "name": "stdout",
     "output_type": "stream",
     "text": [
      "Translate the given text in to the given language: \n",
      "Text: Whats your name?\n",
      "Lang: Punjabi\n",
      "\n",
      "ਤੁਹਾਡਾ ਨਾਮ ਕੀ ਹੈ?\n"
     ]
    }
   ],
   "source": [
    "prompt = prompt_template.format(text = \"Whats your name?\", lang=\"Punjabi\")\n",
    "print(prompt)\n",
    "\n",
    "response =  model.invoke(prompt)\n",
    "print(response.content)"
   ]
  },
  {
   "cell_type": "markdown",
   "id": "ee4fd624",
   "metadata": {},
   "source": [
    "# Exercise: A RAG Prompt\n",
    "\n",
    "https://smith.langchain.com/hub/rlm/rag-prompt"
   ]
  },
  {
   "cell_type": "code",
   "execution_count": 8,
   "id": "959ec4c5",
   "metadata": {},
   "outputs": [],
   "source": [
    "prompt_template = \"\"\"You are an assistant for question-answering tasks. Use the following pieces of retrieved context to answer the question. If you don't know the answer, just say that you don't know. Use three sentences maximum and keep the answer concise.\n",
    "Question: {question} \n",
    "Context: {context} \n",
    "Answer:\"\"\""
   ]
  },
  {
   "cell_type": "code",
   "execution_count": 9,
   "id": "15482b5e",
   "metadata": {},
   "outputs": [
    {
     "name": "stdout",
     "output_type": "stream",
     "text": [
      "The superhero you’re referring to is Batman. He is the iconic DC hero who protects Gotham City.\n"
     ]
    }
   ],
   "source": [
    "prompt = prompt_template.format(\n",
    "    context = \"DC universe, Gotham city\", \n",
    "    question=\"Which superhero am i taling about\"\n",
    ")\n",
    "\n",
    "from langchain.chat_models import init_chat_model\n",
    "model = init_chat_model(\"openai/gpt-oss-120b\", model_provider=\"groq\")\n",
    "\n",
    "response = model.invoke(prompt)\n",
    "print(response.content)\n",
    "\n"
   ]
  },
  {
   "cell_type": "code",
   "execution_count": 10,
   "id": "95bad533",
   "metadata": {},
   "outputs": [],
   "source": [
    "with open(\"newsArticle.txt\", 'r', encoding=\"utf-8\") as file:\n",
    "    newsContext = file.read()\n"
   ]
  },
  {
   "cell_type": "code",
   "execution_count": 11,
   "id": "aabbd227",
   "metadata": {},
   "outputs": [
    {
     "name": "stdout",
     "output_type": "stream",
     "text": [
      "The passage reports how U.S. officials and media criticized Indian Prime Minister Narendra Modi’s attendance at the Shanghai Cooperation Organisation summit alongside Russian President Vladimir Putin and Chinese President Xi Jinping. It details remarks from White House trade adviser Peter Navarro, Treasury Secretary Scott Bessent, former officials and commentators who view the meeting as a diplomatic misstep driven by Trump’s tariffs on India. Overall, the text highlights American concerns that India’s engagement with Russia and China undermines its democratic alignment with the United States.\n"
     ]
    }
   ],
   "source": [
    "\n",
    "prompt = prompt_template.format(\n",
    "    context = newsContext, \n",
    "    question=\"whats this info about\"\n",
    ")\n",
    "\n",
    "from langchain.chat_models import init_chat_model\n",
    "model = init_chat_model(\"openai/gpt-oss-120b\", model_provider=\"groq\")\n",
    "\n",
    "response = model.invoke(prompt)\n",
    "print(response.content)\n",
    "\n"
   ]
  },
  {
   "cell_type": "code",
   "execution_count": 12,
   "id": "3cf263c0",
   "metadata": {},
   "outputs": [
    {
     "name": "stdout",
     "output_type": "stream",
     "text": [
      "The passage reports how U.S. officials and media criticized Indian Prime Minister Narendra Modi’s attendance at the Shanghai Cooperation Organisation summit alongside Russian President Vladimir Putin and Chinese President Xi Jinping. It details remarks from White House trade adviser Peter Navarro, Treasury Secretary Scott Bessent, former officials and commentators who view the meeting as a diplomatic misstep driven by Trump’s tariffs on India. Overall, the text highlights American concerns that India’s engagement with Russia and China undermines its democratic alignment with the United States.\n"
     ]
    }
   ],
   "source": [
    "print(response.content)"
   ]
  }
 ],
 "metadata": {
  "kernelspec": {
   "display_name": "venv",
   "language": "python",
   "name": "python3"
  },
  "language_info": {
   "codemirror_mode": {
    "name": "ipython",
    "version": 3
   },
   "file_extension": ".py",
   "mimetype": "text/x-python",
   "name": "python",
   "nbconvert_exporter": "python",
   "pygments_lexer": "ipython3",
   "version": "3.13.5"
  }
 },
 "nbformat": 4,
 "nbformat_minor": 5
}
